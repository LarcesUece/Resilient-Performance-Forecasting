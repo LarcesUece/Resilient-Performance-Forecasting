{
 "cells": [
  {
   "cell_type": "code",
   "execution_count": 14,
   "metadata": {},
   "outputs": [],
   "source": [
    "import pandas as pd\n",
    "import numpy as np"
   ]
  },
  {
   "cell_type": "markdown",
   "metadata": {},
   "source": [
    "#### Função `calcular_rmse`\n",
    "\n",
    "Função generalista para calcular o RMSE (Root Mean Squared Error)\n",
    "\n",
    "- `dados_originais`: Array com dados originais que vão ser usados para comparar \n",
    "- `dados_processados`: Array com dados processados (imputados ou preditos) como dados de vazão, atraso, etc\n",
    "\n",
    "Ela retorna:\n",
    "\n",
    "- O RMSE (`int`)\n"
   ]
  },
  {
   "cell_type": "code",
   "execution_count": 15,
   "metadata": {},
   "outputs": [],
   "source": [
    "def calcular_rmse(dados_originais, dados_processados):\n",
    "\n",
    "        data = {'Valor_Real': dados_originais,\n",
    "        'Valor_Previsto': dados_processados}\n",
    "\n",
    "        df = pd.DataFrame(data)\n",
    "        \n",
    "        # Calcule as diferenças entre os valores reais e previstos\n",
    "        df['Diferenca'] = df['Valor_Real'] - df['Valor_Previsto']\n",
    "\n",
    "        # Eleve ao quadrado as diferenças\n",
    "        df['Diferenca_Quadrada'] = df['Diferenca'] ** 2\n",
    "\n",
    "        # Calcule a média das diferenças ao quadrado\n",
    "        mse = df['Diferenca_Quadrada'].mean()\n",
    "\n",
    "        # Calcule a raiz quadrada do MSE para obter o RMSE\n",
    "        rmse = np.sqrt(mse)\n",
    "\n",
    "        return rmse\n"
   ]
  },
  {
   "cell_type": "code",
   "execution_count": 16,
   "metadata": {},
   "outputs": [
    {
     "data": {
      "text/plain": [
       "1.9364916731037085"
      ]
     },
     "execution_count": 16,
     "metadata": {},
     "output_type": "execute_result"
    }
   ],
   "source": [
    "data1 = [100, 103, 104, 100]\n",
    "data2 = [102, 104, 105, 103]\n",
    "\n",
    "calcular_rmse(data1, data2)"
   ]
  }
 ],
 "metadata": {
  "kernelspec": {
   "display_name": ".env",
   "language": "python",
   "name": "python3"
  },
  "language_info": {
   "codemirror_mode": {
    "name": "ipython",
    "version": 3
   },
   "file_extension": ".py",
   "mimetype": "text/x-python",
   "name": "python",
   "nbconvert_exporter": "python",
   "pygments_lexer": "ipython3",
   "version": "3.10.12"
  }
 },
 "nbformat": 4,
 "nbformat_minor": 2
}
