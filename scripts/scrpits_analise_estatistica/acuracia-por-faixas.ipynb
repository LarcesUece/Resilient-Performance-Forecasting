{
 "cells": [
  {
   "cell_type": "code",
   "execution_count": 1,
   "metadata": {},
   "outputs": [],
   "source": [
    "import os\n",
    "import numpy as np\n",
    "import pandas as pd"
   ]
  },
  {
   "cell_type": "markdown",
   "metadata": {},
   "source": [
    "#### Função `calcular_acuracia_por_faixas`\n",
    "\n",
    "Função generalista para calcular a acurácia (em %) de dados. \n",
    "Essa acurácia é calculada a partir da porcentagem de dados que estão dentro de um intervalo (ou uma faixa) de valores esperados. \n",
    "\n",
    "- `dados_originais`: Array com dados originais que vão ser usados para comparar \n",
    "- `dados_processados`: Array com dados processados (imputados ou preditos) como dados de vazão, atraso, etc\n",
    "\n",
    "Ela retorna:\n",
    "\n",
    "- A porcentagem de acurácia.\n"
   ]
  },
  {
   "cell_type": "code",
   "execution_count": 2,
   "metadata": {},
   "outputs": [],
   "source": [
    "def substituir_valor (valor):\n",
    "    if valor < 200000000:\n",
    "        return \"r\"\n",
    "    elif 200000000 <= valor < 500000000:\n",
    "        return \"o\"\n",
    "    elif 500000000 <= valor < 800000000:\n",
    "        return \"y\"\n",
    "    elif 800000000 <= valor < 1000000000:\n",
    "        return \"b\"\n",
    "    else:\n",
    "        return \"g\"\n",
    "\n",
    "def calcular_acuracia_por_faixas(dados_originais, dados_processados):\n",
    "    df_comparativo = pd.DataFrame()\n",
    "    df_comparativo[\"Vazao Original\"] = dados_originais\n",
    "    df_comparativo[\"Vazao Processada\"] = dados_processados\n",
    "    df_comparativo[\"Vazao Faixa\"] = 0\n",
    "    df_comparativo['Vazao Original'] = df_comparativo['Vazao Original'].apply(substituir_valor)\n",
    "    df_comparativo['Vazao Processada'] = df_comparativo['Vazao Processada'].apply(substituir_valor)\n",
    "    df_comparativo['Vazao Faixa'] = df_comparativo.apply(lambda row: 1 if row['Vazao Original'] == row['Vazao Processada'] else 0, axis=1)\n",
    "    cont = (df_comparativo['Vazao Faixa'] == 1).sum()\n",
    "    porcentagem = (cont/len(df_comparativo)) * 100\n",
    "    return porcentagem\n"
   ]
  },
  {
   "cell_type": "code",
   "execution_count": 3,
   "metadata": {},
   "outputs": [
    {
     "data": {
      "text/plain": [
       "66.66666666666666"
      ]
     },
     "execution_count": 3,
     "metadata": {},
     "output_type": "execute_result"
    }
   ],
   "source": [
    "dados_originais = [200000000, 200000000, 200000000]\n",
    "dados_processados = [200000000, 200000000, 600000000]\n",
    "\n",
    "calcular_acuracia_por_faixas(dados_originais, dados_processados)"
   ]
  }
 ],
 "metadata": {
  "kernelspec": {
   "display_name": ".env",
   "language": "python",
   "name": "python3"
  },
  "language_info": {
   "codemirror_mode": {
    "name": "ipython",
    "version": 3
   },
   "file_extension": ".py",
   "mimetype": "text/x-python",
   "name": "python",
   "nbconvert_exporter": "python",
   "pygments_lexer": "ipython3",
   "version": "3.10.12"
  }
 },
 "nbformat": 4,
 "nbformat_minor": 2
}
