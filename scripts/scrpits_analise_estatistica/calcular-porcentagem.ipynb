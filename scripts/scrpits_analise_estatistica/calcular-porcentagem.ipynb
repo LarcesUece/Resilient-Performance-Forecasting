{
 "cells": [
  {
   "cell_type": "code",
   "execution_count": 54,
   "metadata": {},
   "outputs": [],
   "source": [
    "import pandas as pd\n",
    "import numpy as np\n",
    "import matplotlib.pyplot as plt \n",
    "import os"
   ]
  },
  {
   "cell_type": "code",
   "execution_count": 55,
   "metadata": {},
   "outputs": [],
   "source": [
    "def calcular_porcentagem (df):\n",
    "    cont = (df['Vazao'] == -1).sum()\n",
    "    porcentagem = 100 - (((len(df) - cont) * 100) / len(df))\n",
    "    return porcentagem"
   ]
  },
  {
   "cell_type": "markdown",
   "metadata": {},
   "source": [
    "#### Função `verificar_porcentagem_arquivo`\n",
    "\n",
    "Calcular a porcentagem de dados faltantes em um dataset\n",
    "\n",
    "- `caminho_arquivo`: Caminho relativo do *ARQUIVO* do dataset. \n",
    "\n",
    "Ela retorna:\n",
    "\n",
    "- A porcentagem (`int`) de dados faltantes (\"-1\") de um arquivo\n"
   ]
  },
  {
   "cell_type": "code",
   "execution_count": 56,
   "metadata": {},
   "outputs": [],
   "source": [
    "def verificar_porcentagem_arquivo(caminho_arquivo):\n",
    "    if caminho_arquivo.endswith('.csv'):\n",
    "        df = pd.read_csv(caminho_arquivo)   \n",
    "        porcentagem = calcular_porcentagem(df)\n",
    "        return porcentagem"
   ]
  },
  {
   "cell_type": "markdown",
   "metadata": {},
   "source": [
    "#### Função `verificar_porcentagem_pasta`\n",
    "\n",
    "Calcula a porcentagem de dados faltantes em arquivos de um dataset.\n",
    "\n",
    "- `caminho_arquivo`: O caminho relativo para a *PASTA* do dataset.\n",
    "\n",
    "Retorna:\n",
    "\n",
    "- Um dicionário onde as chaves são os nomes dos arquivos e os valores são as porcentagens de dados faltantes (\"-1\") encontrados em cada arquivo na pasta."
   ]
  },
  {
   "cell_type": "code",
   "execution_count": 57,
   "metadata": {},
   "outputs": [],
   "source": [
    "def verificar_porcentagem_pasta(caminho):\n",
    "    todas_porcentagens = {}\n",
    "    if caminho.endswith(\"bbr\"): tipo = \"bbr\"\n",
    "    elif caminho.endswith(\"cubic\"): tipo = \"cubic\"\n",
    "    for arquivo in os.listdir(caminho):\n",
    "        if arquivo.endswith('.csv') and arquivo.startswith(\"tratado \" + tipo + \" esmond\"):\n",
    "            caminho_arquivo = os.path.join(caminho, arquivo)\n",
    "            df = pd.read_csv(caminho_arquivo) \n",
    "            porcentagem = calcular_porcentagem(df)\n",
    "            todas_porcentagens[arquivo] = porcentagem\n",
    "    return todas_porcentagens"
   ]
  },
  {
   "cell_type": "markdown",
   "metadata": {},
   "source": [
    "#### Teste"
   ]
  },
  {
   "cell_type": "code",
   "execution_count": 58,
   "metadata": {},
   "outputs": [
    {
     "data": {
      "text/plain": [
       "{'tratado cubic esmond data mg-rs 06-10-2023.csv': 20.26627218934911,\n",
       " 'tratado cubic esmond data ce-sp 06-10-2023.csv': 24.157303370786522,\n",
       " 'tratado cubic esmond data pr-am 06-10-2023.csv': 39.37125748502994,\n",
       " 'tratado cubic esmond data pa-ba 06-10-2023.csv': 28.85714285714286,\n",
       " 'tratado cubic esmond data df-rj 06-10-2023.csv': 17.10526315789474}"
      ]
     },
     "execution_count": 58,
     "metadata": {},
     "output_type": "execute_result"
    }
   ],
   "source": [
    "bbr = \"../../datasets/vazao/10-06-2023/tratado/bbr\"\n",
    "cubic = \"../../datasets/vazao/10-06-2023/tratado/cubic\"\n",
    "arquivo = \"../../datasets/intervalos-completos/vazao/dados-faltantes-gerados/bbr 06-10-2023/tratado bbr esmond data mg-rs 06-10-2023_longest_interval 1.csv\"\n",
    "\n",
    "todas_porcentagens_cubic  = verificar_porcentagem_pasta(cubic)\n",
    "todas_porcentagens_cubic"
   ]
  },
  {
   "cell_type": "markdown",
   "metadata": {},
   "source": [
    "#### Porcentagem de todos os datasets tratados\n",
    "\n",
    "Utilizando a pasta: `../../datasets/vazao/10-06-2023/tratado/`"
   ]
  },
  {
   "cell_type": "code",
   "execution_count": 69,
   "metadata": {},
   "outputs": [
    {
     "data": {
      "image/png": "[encoded data removed]",
      "text/plain": [
       "<Figure size 1000x400 with 1 Axes>"
      ]
     },
     "metadata": {},
     "output_type": "display_data"
    }
   ],
   "source": [
    "todas_porcentagens_tratado = {}\n",
    "for pasta in os.listdir(\"../../datasets/vazao/10-06-2023/tratado/\"):\n",
    "    caminho = os.path.join(\"../../datasets/vazao/10-06-2023/tratado/\", pasta)\n",
    "    porcentagens_caminho = verificar_porcentagem_pasta(caminho)\n",
    "    todas_porcentagens_tratado[pasta] = porcentagens_caminho\n",
    "\n",
    "import re\n",
    "\n",
    "# Extrair as informações relevantes dos nomes dos arquivos\n",
    "labels = [re.search(r' esmond data (.*?) \\d{2}-\\d{2}-\\d{4}.csv', filename).group(1) for filename in todas_porcentagens_tratado['cubic'].keys()]\n",
    "\n",
    "# Organizar os dados\n",
    "keys = list(todas_porcentagens_tratado.keys())\n",
    "values = [list(todas_porcentagens_tratado[key].values()) for key in keys]\n",
    "\n",
    "colors = ['#8B0000', 'pink'] \n",
    "# Configurar posições das barras\n",
    "x = range(len(labels))\n",
    "\n",
    "# Plotar o gráfico de barras\n",
    "plt.figure(figsize=(10, 4))\n",
    "width = 0.35\n",
    "for i in range(len(keys)):\n",
    "    plt.bar([pos + i * width for pos in x], values[i], width=width, label=keys[i], color=colors[i])\n",
    "\n",
    "# Configurar os rótulos do eixo x\n",
    "plt.xlabel('Arquivos Tratados 10-06-2023')\n",
    "plt.xticks([pos + width for pos in x], labels)\n",
    "\n",
    "# Configurar o título e a legenda\n",
    "plt.title('Porcentagem de Dados Faltantes')\n",
    "plt.legend()\n",
    "\n",
    "# Mostrar o gráfico\n",
    "plt.tight_layout()\n",
    "plt.show()\n",
    "\n"
   ]
  }
 ],
 "metadata": {
  "kernelspec": {
   "display_name": "Python 3",
   "language": "python",
   "name": "python3"
  },
  "language_info": {
   "codemirror_mode": {
    "name": "ipython",
    "version": 3
   },
   "file_extension": ".py",
   "mimetype": "text/x-python",
   "name": "python",
   "nbconvert_exporter": "python",
   "pygments_lexer": "ipython3",
   "version": "3.10.12"
  }
 },
 "nbformat": 4,
 "nbformat_minor": 2
}
