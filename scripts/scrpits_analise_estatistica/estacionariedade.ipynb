{
 "cells": [
  {
   "cell_type": "code",
   "execution_count": 41,
   "metadata": {},
   "outputs": [],
   "source": [
    "import pandas as pd\n",
    "import numpy as np\n",
    "import matplotlib.pyplot as plt\n",
    "import statsmodels.api as sm"
   ]
  },
  {
   "cell_type": "markdown",
   "metadata": {},
   "source": [
    "#### Função `testar_estacionariedade_serie_temporal`\n",
    "\n",
    "Testa a estacionariedade de uma série temporal usando o teste Augmented Dickey-Fuller (ADF).\n",
    "\n",
    "Parâmetros:\n",
    "    - `dataframe`: DataFrame contendo a série temporal.\n",
    "    - `coluna_serie_temporal`: Nome da coluna contendo os valores da série temporal.\n",
    "    - `alpha`: Nível de significância para o teste ADF (valor crítico para rejeição da hipótese nula).\n",
    "\n",
    "Retorna:\n",
    "    - `True` se a série for estacionária (hipótese nula rejeitada), `False` caso contrário.\n",
    "\n",
    "\n",
    "obs: retirada de vazao-predicao.ipynb"
   ]
  },
  {
   "cell_type": "code",
   "execution_count": 42,
   "metadata": {},
   "outputs": [],
   "source": [
    "def testar_estacionariedade_serie_temporal(dataframe, coluna_serie_temporal, alpha=0.05):\n",
    "    \"\"\"\n",
    "    Testa a estacionariedade de uma série temporal usando o teste Augmented Dickey-Fuller (ADF).\n",
    "    \n",
    "    Parâmetros:\n",
    "    - dataframe: DataFrame contendo a série temporal.\n",
    "    - coluna_serie_temporal: Nome da coluna contendo os valores da série temporal.\n",
    "    - alpha: Nível de significância para o teste ADF (valor crítico para rejeição da hipótese nula).\n",
    "\n",
    "    Retorna:\n",
    "    - True se a série for estacionária (hipótese nula rejeitada), False caso contrário.\n",
    "    \"\"\"\n",
    "    fraction = 0.10\n",
    "\n",
    "    sampled_df = dataframe.sample(frac=fraction, random_state=42)\n",
    "\n",
    "    # Realiza o teste ADF\n",
    "    resultado_teste = sm.tsa.adfuller(sampled_df[coluna_serie_temporal], autolag='AIC')\n",
    "\n",
    "    # Extrai o valor-p do resultado do teste\n",
    "    p_valor = resultado_teste[1]\n",
    "\n",
    "    # Compara o valor-p com o nível de significância (alpha)\n",
    "    if p_valor <= alpha:\n",
    "        return True  # A série é estacionária\n",
    "    else:\n",
    "        return False  # A série não é estacionária"
   ]
  },
  {
   "cell_type": "code",
   "execution_count": 43,
   "metadata": {},
   "outputs": [
    {
     "name": "stdout",
     "output_type": "stream",
     "text": [
      "Série temporal estacionária:\n",
      "    Estacionario\n",
      "0       0.496714\n",
      "1      -0.138264\n",
      "2       0.647689\n",
      "3       1.523030\n",
      "4      -0.234153\n",
      "..           ...\n",
      "95     -1.463515\n",
      "96      0.296120\n",
      "97      0.261055\n",
      "98      0.005113\n",
      "99     -0.234587\n",
      "\n",
      "[100 rows x 1 columns]\n"
     ]
    }
   ],
   "source": [
    "# Série temporal estacionária\n",
    "np.random.seed(42)  # Para garantir a reprodutibilidade dos resultados\n",
    "data_estacionaria = pd.Series(np.random.normal(loc=0, scale=1, size=100))\n",
    "\n",
    "# DataFrame com série temporal estacionária\n",
    "df_estacionario = pd.DataFrame({'Estacionario': data_estacionaria})\n",
    "print(\"Série temporal estacionária:\")\n",
    "print(df_estacionario)"
   ]
  },
  {
   "cell_type": "code",
   "execution_count": 44,
   "metadata": {},
   "outputs": [
    {
     "data": {
      "text/plain": [
       "True"
      ]
     },
     "execution_count": 44,
     "metadata": {},
     "output_type": "execute_result"
    }
   ],
   "source": [
    "testar_estacionariedade_serie_temporal(df_estacionario, 'Estacionario')"
   ]
  },
  {
   "cell_type": "code",
   "execution_count": 45,
   "metadata": {},
   "outputs": [
    {
     "name": "stdout",
     "output_type": "stream",
     "text": [
      "\n",
      "Série temporal não estacionária:\n",
      "    NaoEstacionario\n",
      "0         -1.749765\n",
      "1          1.342680\n",
      "2          3.153036\n",
      "3          2.747564\n",
      "4          4.981321\n",
      "..              ...\n",
      "95        95.003017\n",
      "96        95.923977\n",
      "97        97.003958\n",
      "98        97.814986\n",
      "99        96.512848\n",
      "\n",
      "[100 rows x 1 columns]\n"
     ]
    }
   ],
   "source": [
    "# Série temporal não estacionária\n",
    "np.random.seed(100)  # Outra semente para dados diferentes\n",
    "data_nao_estacionaria = pd.Series(np.arange(100) + np.random.normal(loc=0, scale=1, size=100))\n",
    "\n",
    "# DataFrame com série temporal não estacionária\n",
    "df_nao_estacionario = pd.DataFrame({'NaoEstacionario': data_nao_estacionaria})\n",
    "print(\"\\nSérie temporal não estacionária:\")\n",
    "print(df_nao_estacionario)"
   ]
  },
  {
   "cell_type": "code",
   "execution_count": 46,
   "metadata": {},
   "outputs": [
    {
     "data": {
      "text/plain": [
       "False"
      ]
     },
     "execution_count": 46,
     "metadata": {},
     "output_type": "execute_result"
    }
   ],
   "source": [
    "testar_estacionariedade_serie_temporal(df_nao_estacionario, 'NaoEstacionario')"
   ]
  }
 ],
 "metadata": {
  "kernelspec": {
   "display_name": ".env",
   "language": "python",
   "name": "python3"
  },
  "language_info": {
   "codemirror_mode": {
    "name": "ipython",
    "version": 3
   },
   "file_extension": ".py",
   "mimetype": "text/x-python",
   "name": "python",
   "nbconvert_exporter": "python",
   "pygments_lexer": "ipython3",
   "version": "3.10.12"
  }
 },
 "nbformat": 4,
 "nbformat_minor": 2
}
