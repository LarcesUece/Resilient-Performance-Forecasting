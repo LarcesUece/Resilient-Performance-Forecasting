{
 "cells": [
  {
   "cell_type": "markdown",
   "metadata": {},
   "source": [
    "## Preenchendo Dados com o Método de Interpolação Ponderada no Tempo\n",
    "Os datasets utilizados foram os de vazão da data 10/06/2023 da rotas pa-ba e pr-am. "
   ]
  },
  {
   "cell_type": "code",
   "execution_count": 2,
   "metadata": {},
   "outputs": [],
   "source": [
    "import pandas as pd\n",
    "import numpy as np\n",
    "import matplotlib.pyplot as plt"
   ]
  },
  {
   "cell_type": "markdown",
   "metadata": {},
   "source": [
    "### Preenchendo os dados faltantes"
   ]
  },
  {
   "cell_type": "code",
   "execution_count": 47,
   "metadata": {},
   "outputs": [
    {
     "ename": "ValueError",
     "evalue": "time-weighted interpolation only works on Series or DataFrames with a DatetimeIndex",
     "output_type": "error",
     "traceback": [
      "\u001b[1;31m---------------------------------------------------------------------------\u001b[0m",
      "\u001b[1;31mValueError\u001b[0m                                Traceback (most recent call last)",
      "\u001b[1;32mc:\\Users\\macla\\clara\\UECE-RNP-PMon-2023\\scripts\\preencher-vazao\\interpolacao\\ponderada-no-tempo.ipynb Célula 4\u001b[0m line \u001b[0;36m1\n\u001b[0;32m     <a href='vscode-notebook-cell:/c%3A/Users/macla/clara/UECE-RNP-PMon-2023/scripts/preencher-vazao/interpolacao/ponderada-no-tempo.ipynb#W3sZmlsZQ%3D%3D?line=12'>13</a>\u001b[0m     \u001b[39mreturn\u001b[39;00m df_copy\n\u001b[0;32m     <a href='vscode-notebook-cell:/c%3A/Users/macla/clara/UECE-RNP-PMon-2023/scripts/preencher-vazao/interpolacao/ponderada-no-tempo.ipynb#W3sZmlsZQ%3D%3D?line=14'>15</a>\u001b[0m df \u001b[39m=\u001b[39m pd\u001b[39m.\u001b[39mread_csv(\u001b[39m'\u001b[39m\u001b[39m../../../datasets/vazao/10-06-2023/tratado/bbr/tratado bbr esmond data pa-ba 06-10-2023.csv\u001b[39m\u001b[39m'\u001b[39m)\n\u001b[1;32m---> <a href='vscode-notebook-cell:/c%3A/Users/macla/clara/UECE-RNP-PMon-2023/scripts/preencher-vazao/interpolacao/ponderada-no-tempo.ipynb#W3sZmlsZQ%3D%3D?line=15'>16</a>\u001b[0m df \u001b[39m=\u001b[39m preencher_interp_linear(df)\n\u001b[0;32m     <a href='vscode-notebook-cell:/c%3A/Users/macla/clara/UECE-RNP-PMon-2023/scripts/preencher-vazao/interpolacao/ponderada-no-tempo.ipynb#W3sZmlsZQ%3D%3D?line=16'>17</a>\u001b[0m final_df \u001b[39m=\u001b[39m pd\u001b[39m.\u001b[39mread_csv(\u001b[39m'\u001b[39m\u001b[39m../../../datasets/vazao/10-06-2023/tratado/bbr/tratado bbr esmond data pa-ba 06-10-2023.csv\u001b[39m\u001b[39m'\u001b[39m)\n\u001b[0;32m     <a href='vscode-notebook-cell:/c%3A/Users/macla/clara/UECE-RNP-PMon-2023/scripts/preencher-vazao/interpolacao/ponderada-no-tempo.ipynb#W3sZmlsZQ%3D%3D?line=17'>18</a>\u001b[0m final_df[\u001b[39m'\u001b[39m\u001b[39mVazao\u001b[39m\u001b[39m'\u001b[39m] \u001b[39m=\u001b[39m df\n",
      "\u001b[1;32mc:\\Users\\macla\\clara\\UECE-RNP-PMon-2023\\scripts\\preencher-vazao\\interpolacao\\ponderada-no-tempo.ipynb Célula 4\u001b[0m line \u001b[0;36m1\n\u001b[0;32m      <a href='vscode-notebook-cell:/c%3A/Users/macla/clara/UECE-RNP-PMon-2023/scripts/preencher-vazao/interpolacao/ponderada-no-tempo.ipynb#W3sZmlsZQ%3D%3D?line=4'>5</a>\u001b[0m \u001b[39m# # Conversão de datas para usar o método de interpolação\u001b[39;00m\n\u001b[0;32m      <a href='vscode-notebook-cell:/c%3A/Users/macla/clara/UECE-RNP-PMon-2023/scripts/preencher-vazao/interpolacao/ponderada-no-tempo.ipynb#W3sZmlsZQ%3D%3D?line=5'>6</a>\u001b[0m \u001b[39m# df_copy['Data'] = pd.to_datetime(df_copy['Data'], dayfirst=True)\u001b[39;00m\n\u001b[0;32m      <a href='vscode-notebook-cell:/c%3A/Users/macla/clara/UECE-RNP-PMon-2023/scripts/preencher-vazao/interpolacao/ponderada-no-tempo.ipynb#W3sZmlsZQ%3D%3D?line=6'>7</a>\u001b[0m \u001b[39m# df_copy.set_index('Data', inplace=True)\u001b[39;00m\n\u001b[0;32m      <a href='vscode-notebook-cell:/c%3A/Users/macla/clara/UECE-RNP-PMon-2023/scripts/preencher-vazao/interpolacao/ponderada-no-tempo.ipynb#W3sZmlsZQ%3D%3D?line=7'>8</a>\u001b[0m \n\u001b[0;32m      <a href='vscode-notebook-cell:/c%3A/Users/macla/clara/UECE-RNP-PMon-2023/scripts/preencher-vazao/interpolacao/ponderada-no-tempo.ipynb#W3sZmlsZQ%3D%3D?line=8'>9</a>\u001b[0m \u001b[39m# # Preenchendo os valores -1 com NaN e realizando a interpolação linear por tempo\u001b[39;00m\n\u001b[0;32m     <a href='vscode-notebook-cell:/c%3A/Users/macla/clara/UECE-RNP-PMon-2023/scripts/preencher-vazao/interpolacao/ponderada-no-tempo.ipynb#W3sZmlsZQ%3D%3D?line=9'>10</a>\u001b[0m df_copy\u001b[39m=\u001b[39m df_copy\u001b[39m.\u001b[39mreplace(\u001b[39m-\u001b[39m\u001b[39m1\u001b[39m, np\u001b[39m.\u001b[39mnan)\n\u001b[1;32m---> <a href='vscode-notebook-cell:/c%3A/Users/macla/clara/UECE-RNP-PMon-2023/scripts/preencher-vazao/interpolacao/ponderada-no-tempo.ipynb#W3sZmlsZQ%3D%3D?line=10'>11</a>\u001b[0m df_copy \u001b[39m=\u001b[39m df_copy\u001b[39m.\u001b[39;49minterpolate(method\u001b[39m=\u001b[39;49m\u001b[39m'\u001b[39;49m\u001b[39mtime\u001b[39;49m\u001b[39m'\u001b[39;49m)\n\u001b[0;32m     <a href='vscode-notebook-cell:/c%3A/Users/macla/clara/UECE-RNP-PMon-2023/scripts/preencher-vazao/interpolacao/ponderada-no-tempo.ipynb#W3sZmlsZQ%3D%3D?line=12'>13</a>\u001b[0m \u001b[39mreturn\u001b[39;00m df_copy\n",
      "File \u001b[1;32m~\\AppData\\Local\\Packages\\PythonSoftwareFoundation.Python.3.11_qbz5n2kfra8p0\\LocalCache\\local-packages\\Python311\\site-packages\\pandas\\core\\series.py:5942\u001b[0m, in \u001b[0;36mSeries.interpolate\u001b[1;34m(self, method, axis, limit, inplace, limit_direction, limit_area, downcast, **kwargs)\u001b[0m\n\u001b[0;32m   5930\u001b[0m \u001b[39mdef\u001b[39;00m \u001b[39minterpolate\u001b[39m(\n\u001b[0;32m   5931\u001b[0m     \u001b[39mself\u001b[39m: Series,\n\u001b[0;32m   5932\u001b[0m     method: \u001b[39mstr\u001b[39m \u001b[39m=\u001b[39m \u001b[39m\"\u001b[39m\u001b[39mlinear\u001b[39m\u001b[39m\"\u001b[39m,\n\u001b[1;32m   (...)\u001b[0m\n\u001b[0;32m   5940\u001b[0m     \u001b[39m*\u001b[39m\u001b[39m*\u001b[39mkwargs,\n\u001b[0;32m   5941\u001b[0m ) \u001b[39m-\u001b[39m\u001b[39m>\u001b[39m Series \u001b[39m|\u001b[39m \u001b[39mNone\u001b[39;00m:\n\u001b[1;32m-> 5942\u001b[0m     \u001b[39mreturn\u001b[39;00m \u001b[39msuper\u001b[39;49m()\u001b[39m.\u001b[39;49minterpolate(\n\u001b[0;32m   5943\u001b[0m         method\u001b[39m=\u001b[39;49mmethod,\n\u001b[0;32m   5944\u001b[0m         axis\u001b[39m=\u001b[39;49maxis,\n\u001b[0;32m   5945\u001b[0m         limit\u001b[39m=\u001b[39;49mlimit,\n\u001b[0;32m   5946\u001b[0m         inplace\u001b[39m=\u001b[39;49minplace,\n\u001b[0;32m   5947\u001b[0m         limit_direction\u001b[39m=\u001b[39;49mlimit_direction,\n\u001b[0;32m   5948\u001b[0m         limit_area\u001b[39m=\u001b[39;49mlimit_area,\n\u001b[0;32m   5949\u001b[0m         downcast\u001b[39m=\u001b[39;49mdowncast,\n\u001b[0;32m   5950\u001b[0m         \u001b[39m*\u001b[39;49m\u001b[39m*\u001b[39;49mkwargs,\n\u001b[0;32m   5951\u001b[0m     )\n",
      "File \u001b[1;32m~\\AppData\\Local\\Packages\\PythonSoftwareFoundation.Python.3.11_qbz5n2kfra8p0\\LocalCache\\local-packages\\Python311\\site-packages\\pandas\\core\\generic.py:7681\u001b[0m, in \u001b[0;36mNDFrame.interpolate\u001b[1;34m(self, method, axis, limit, inplace, limit_direction, limit_area, downcast, **kwargs)\u001b[0m\n\u001b[0;32m   7675\u001b[0m \u001b[39mif\u001b[39;00m isna(index)\u001b[39m.\u001b[39many():\n\u001b[0;32m   7676\u001b[0m     \u001b[39mraise\u001b[39;00m \u001b[39mNotImplementedError\u001b[39;00m(\n\u001b[0;32m   7677\u001b[0m         \u001b[39m\"\u001b[39m\u001b[39mInterpolation with NaNs in the index \u001b[39m\u001b[39m\"\u001b[39m\n\u001b[0;32m   7678\u001b[0m         \u001b[39m\"\u001b[39m\u001b[39mhas not been implemented. Try filling \u001b[39m\u001b[39m\"\u001b[39m\n\u001b[0;32m   7679\u001b[0m         \u001b[39m\"\u001b[39m\u001b[39mthose NaNs before interpolating.\u001b[39m\u001b[39m\"\u001b[39m\n\u001b[0;32m   7680\u001b[0m     )\n\u001b[1;32m-> 7681\u001b[0m new_data \u001b[39m=\u001b[39m obj\u001b[39m.\u001b[39;49m_mgr\u001b[39m.\u001b[39;49minterpolate(\n\u001b[0;32m   7682\u001b[0m     method\u001b[39m=\u001b[39;49mmethod,\n\u001b[0;32m   7683\u001b[0m     axis\u001b[39m=\u001b[39;49maxis,\n\u001b[0;32m   7684\u001b[0m     index\u001b[39m=\u001b[39;49mindex,\n\u001b[0;32m   7685\u001b[0m     limit\u001b[39m=\u001b[39;49mlimit,\n\u001b[0;32m   7686\u001b[0m     limit_direction\u001b[39m=\u001b[39;49mlimit_direction,\n\u001b[0;32m   7687\u001b[0m     limit_area\u001b[39m=\u001b[39;49mlimit_area,\n\u001b[0;32m   7688\u001b[0m     inplace\u001b[39m=\u001b[39;49minplace,\n\u001b[0;32m   7689\u001b[0m     downcast\u001b[39m=\u001b[39;49mdowncast,\n\u001b[0;32m   7690\u001b[0m     \u001b[39m*\u001b[39;49m\u001b[39m*\u001b[39;49mkwargs,\n\u001b[0;32m   7691\u001b[0m )\n\u001b[0;32m   7693\u001b[0m result \u001b[39m=\u001b[39m \u001b[39mself\u001b[39m\u001b[39m.\u001b[39m_constructor(new_data)\n\u001b[0;32m   7694\u001b[0m \u001b[39mif\u001b[39;00m should_transpose:\n",
      "File \u001b[1;32m~\\AppData\\Local\\Packages\\PythonSoftwareFoundation.Python.3.11_qbz5n2kfra8p0\\LocalCache\\local-packages\\Python311\\site-packages\\pandas\\core\\internals\\managers.py:417\u001b[0m, in \u001b[0;36mBaseBlockManager.interpolate\u001b[1;34m(self, inplace, **kwargs)\u001b[0m\n\u001b[0;32m    416\u001b[0m \u001b[39mdef\u001b[39;00m \u001b[39minterpolate\u001b[39m(\u001b[39mself\u001b[39m: T, inplace: \u001b[39mbool\u001b[39m, \u001b[39m*\u001b[39m\u001b[39m*\u001b[39mkwargs) \u001b[39m-\u001b[39m\u001b[39m>\u001b[39m T:\n\u001b[1;32m--> 417\u001b[0m     \u001b[39mreturn\u001b[39;00m \u001b[39mself\u001b[39;49m\u001b[39m.\u001b[39;49mapply(\n\u001b[0;32m    418\u001b[0m         \u001b[39m\"\u001b[39;49m\u001b[39minterpolate\u001b[39;49m\u001b[39m\"\u001b[39;49m, inplace\u001b[39m=\u001b[39;49minplace, \u001b[39m*\u001b[39;49m\u001b[39m*\u001b[39;49mkwargs, using_cow\u001b[39m=\u001b[39;49musing_copy_on_write()\n\u001b[0;32m    419\u001b[0m     )\n",
      "File \u001b[1;32m~\\AppData\\Local\\Packages\\PythonSoftwareFoundation.Python.3.11_qbz5n2kfra8p0\\LocalCache\\local-packages\\Python311\\site-packages\\pandas\\core\\internals\\managers.py:352\u001b[0m, in \u001b[0;36mBaseBlockManager.apply\u001b[1;34m(self, f, align_keys, **kwargs)\u001b[0m\n\u001b[0;32m    350\u001b[0m         applied \u001b[39m=\u001b[39m b\u001b[39m.\u001b[39mapply(f, \u001b[39m*\u001b[39m\u001b[39m*\u001b[39mkwargs)\n\u001b[0;32m    351\u001b[0m     \u001b[39melse\u001b[39;00m:\n\u001b[1;32m--> 352\u001b[0m         applied \u001b[39m=\u001b[39m \u001b[39mgetattr\u001b[39;49m(b, f)(\u001b[39m*\u001b[39;49m\u001b[39m*\u001b[39;49mkwargs)\n\u001b[0;32m    353\u001b[0m     result_blocks \u001b[39m=\u001b[39m extend_blocks(applied, result_blocks)\n\u001b[0;32m    355\u001b[0m out \u001b[39m=\u001b[39m \u001b[39mtype\u001b[39m(\u001b[39mself\u001b[39m)\u001b[39m.\u001b[39mfrom_blocks(result_blocks, \u001b[39mself\u001b[39m\u001b[39m.\u001b[39maxes)\n",
      "File \u001b[1;32m~\\AppData\\Local\\Packages\\PythonSoftwareFoundation.Python.3.11_qbz5n2kfra8p0\\LocalCache\\local-packages\\Python311\\site-packages\\pandas\\core\\internals\\blocks.py:1380\u001b[0m, in \u001b[0;36mBlock.interpolate\u001b[1;34m(self, method, axis, index, inplace, limit, limit_direction, limit_area, fill_value, downcast, using_cow, **kwargs)\u001b[0m\n\u001b[0;32m   1377\u001b[0m     data \u001b[39m=\u001b[39m \u001b[39mself\u001b[39m\u001b[39m.\u001b[39mvalues\u001b[39m.\u001b[39mcopy()\n\u001b[0;32m   1378\u001b[0m data \u001b[39m=\u001b[39m cast(np\u001b[39m.\u001b[39mndarray, data)  \u001b[39m# bc overridden by ExtensionBlock\u001b[39;00m\n\u001b[1;32m-> 1380\u001b[0m missing\u001b[39m.\u001b[39;49minterpolate_array_2d(\n\u001b[0;32m   1381\u001b[0m     data,\n\u001b[0;32m   1382\u001b[0m     method\u001b[39m=\u001b[39;49mmethod,\n\u001b[0;32m   1383\u001b[0m     axis\u001b[39m=\u001b[39;49maxis,\n\u001b[0;32m   1384\u001b[0m     index\u001b[39m=\u001b[39;49mindex,\n\u001b[0;32m   1385\u001b[0m     limit\u001b[39m=\u001b[39;49mlimit,\n\u001b[0;32m   1386\u001b[0m     limit_direction\u001b[39m=\u001b[39;49mlimit_direction,\n\u001b[0;32m   1387\u001b[0m     limit_area\u001b[39m=\u001b[39;49mlimit_area,\n\u001b[0;32m   1388\u001b[0m     fill_value\u001b[39m=\u001b[39;49mfill_value,\n\u001b[0;32m   1389\u001b[0m     \u001b[39m*\u001b[39;49m\u001b[39m*\u001b[39;49mkwargs,\n\u001b[0;32m   1390\u001b[0m )\n\u001b[0;32m   1392\u001b[0m nb \u001b[39m=\u001b[39m \u001b[39mself\u001b[39m\u001b[39m.\u001b[39mmake_block_same_class(data, refs\u001b[39m=\u001b[39mrefs)\n\u001b[0;32m   1393\u001b[0m \u001b[39mreturn\u001b[39;00m nb\u001b[39m.\u001b[39m_maybe_downcast([nb], downcast, using_cow)\n",
      "File \u001b[1;32m~\\AppData\\Local\\Packages\\PythonSoftwareFoundation.Python.3.11_qbz5n2kfra8p0\\LocalCache\\local-packages\\Python311\\site-packages\\pandas\\core\\missing.py:267\u001b[0m, in \u001b[0;36minterpolate_array_2d\u001b[1;34m(data, method, axis, index, limit, limit_direction, limit_area, fill_value, coerce, downcast, **kwargs)\u001b[0m\n\u001b[0;32m    264\u001b[0m \u001b[39melse\u001b[39;00m:\n\u001b[0;32m    265\u001b[0m     \u001b[39massert\u001b[39;00m index \u001b[39mis\u001b[39;00m \u001b[39mnot\u001b[39;00m \u001b[39mNone\u001b[39;00m  \u001b[39m# for mypy\u001b[39;00m\n\u001b[1;32m--> 267\u001b[0m     _interpolate_2d_with_fill(\n\u001b[0;32m    268\u001b[0m         data\u001b[39m=\u001b[39;49mdata,\n\u001b[0;32m    269\u001b[0m         index\u001b[39m=\u001b[39;49mindex,\n\u001b[0;32m    270\u001b[0m         axis\u001b[39m=\u001b[39;49maxis,\n\u001b[0;32m    271\u001b[0m         method\u001b[39m=\u001b[39;49mmethod,\n\u001b[0;32m    272\u001b[0m         limit\u001b[39m=\u001b[39;49mlimit,\n\u001b[0;32m    273\u001b[0m         limit_direction\u001b[39m=\u001b[39;49mlimit_direction,\n\u001b[0;32m    274\u001b[0m         limit_area\u001b[39m=\u001b[39;49mlimit_area,\n\u001b[0;32m    275\u001b[0m         fill_value\u001b[39m=\u001b[39;49mfill_value,\n\u001b[0;32m    276\u001b[0m         \u001b[39m*\u001b[39;49m\u001b[39m*\u001b[39;49mkwargs,\n\u001b[0;32m    277\u001b[0m     )\n",
      "File \u001b[1;32m~\\AppData\\Local\\Packages\\PythonSoftwareFoundation.Python.3.11_qbz5n2kfra8p0\\LocalCache\\local-packages\\Python311\\site-packages\\pandas\\core\\missing.py:309\u001b[0m, in \u001b[0;36m_interpolate_2d_with_fill\u001b[1;34m(data, index, axis, method, limit, limit_direction, limit_area, fill_value, **kwargs)\u001b[0m\n\u001b[0;32m    307\u001b[0m \u001b[39mif\u001b[39;00m method \u001b[39m==\u001b[39m \u001b[39m\"\u001b[39m\u001b[39mtime\u001b[39m\u001b[39m\"\u001b[39m:\n\u001b[0;32m    308\u001b[0m     \u001b[39mif\u001b[39;00m \u001b[39mnot\u001b[39;00m needs_i8_conversion(index\u001b[39m.\u001b[39mdtype):\n\u001b[1;32m--> 309\u001b[0m         \u001b[39mraise\u001b[39;00m \u001b[39mValueError\u001b[39;00m(\n\u001b[0;32m    310\u001b[0m             \u001b[39m\"\u001b[39m\u001b[39mtime-weighted interpolation only works \u001b[39m\u001b[39m\"\u001b[39m\n\u001b[0;32m    311\u001b[0m             \u001b[39m\"\u001b[39m\u001b[39mon Series or DataFrames with a \u001b[39m\u001b[39m\"\u001b[39m\n\u001b[0;32m    312\u001b[0m             \u001b[39m\"\u001b[39m\u001b[39mDatetimeIndex\u001b[39m\u001b[39m\"\u001b[39m\n\u001b[0;32m    313\u001b[0m         )\n\u001b[0;32m    314\u001b[0m     method \u001b[39m=\u001b[39m \u001b[39m\"\u001b[39m\u001b[39mvalues\u001b[39m\u001b[39m\"\u001b[39m\n\u001b[0;32m    316\u001b[0m valid_limit_directions \u001b[39m=\u001b[39m [\u001b[39m\"\u001b[39m\u001b[39mforward\u001b[39m\u001b[39m\"\u001b[39m, \u001b[39m\"\u001b[39m\u001b[39mbackward\u001b[39m\u001b[39m\"\u001b[39m, \u001b[39m\"\u001b[39m\u001b[39mboth\u001b[39m\u001b[39m\"\u001b[39m]\n",
      "\u001b[1;31mValueError\u001b[0m: time-weighted interpolation only works on Series or DataFrames with a DatetimeIndex"
     ]
    }
   ],
   "source": [
    "def preencher_interp_linear(df):\n",
    "    # Evitando alterações no database original\n",
    "    df_copy = df['Vazao']\n",
    "    \n",
    "    # # Conversão de datas para usar o método de interpolação\n",
    "    # df_copy['Data'] = pd.to_datetime(df_copy['Data'], dayfirst=True)\n",
    "    # df_copy.set_index('Data', inplace=True)\n",
    "    \n",
    "    # # Preenchendo os valores -1 com NaN e realizando a interpolação linear por tempo\n",
    "    df_copy= df_copy.replace(-1, np.nan)\n",
    "    df_copy = df_copy.interpolate(method='polynomial', limit_direction='backward', axis=0, order=2)\n",
    "\n",
    "    return df_copy\n",
    "\n",
    "df = pd.read_csv('../../../datasets/vazao/10-06-2023/tratado/bbr/tratado bbr esmond data pa-ba 06-10-2023.csv')\n",
    "df = preencher_interp_linear(df)\n",
    "final_df = pd.read_csv('../../../datasets/vazao/10-06-2023/tratado/bbr/tratado bbr esmond data pa-ba 06-10-2023.csv')\n",
    "final_df['Vazao'] = df\n",
    "final_df"
   ]
  },
  {
   "cell_type": "code",
   "execution_count": 7,
   "metadata": {},
   "outputs": [],
   "source": [
    "def preencher_interp_linear(df):\n",
    "    # Evitando alterações no database original\n",
    "    df_copy = df.copy()\n",
    "\n",
    "    # # Conversão de datas para usar o método de interpolação\n",
    "    df_copy['Data'] = pd.to_datetime(df_copy['Data'], dayfirst=True)\n",
    "    df_copy.set_index('Data', inplace=True)\n",
    "    \n",
    "    # # Preenchendo os valores -1 com NaN e realizando a interpolação linear por tempo\n",
    "    df_copy= df_copy.replace(-1, np.nan)\n",
    "    df_copy = df_copy.interpolate(method='time', limit_direction='backward', axis=0, order=2)\n",
    "\n",
    "    return df_copy\n",
    "\n",
    "\n",
    "\n",
    "bbr_vazao_pa_ba = '../../../datasets/vazao/10-06-2023/tratado/bbr/tratado bbr esmond data pa-ba 06-10-2023.csv'\n",
    "bbr_vazao_pr_am = '../../../datasets/vazao/10-06-2023/tratado/bbr/tratado bbr esmond data pr-am 06-10-2023.csv'\n",
    "cubic_vazao_pa_ba = '../../../datasets/vazao/10-06-2023/tratado/cubic/tratado cubic esmond data pa-ba 06-10-2023.csv'\n",
    "cubic_vazao_pr_am = '../../../datasets/vazao/10-06-2023/tratado/cubic/tratado cubic esmond data pr-am 06-10-2023.csv'\n",
    "\n",
    "bbr_vazao_pa_ba_preenchido = \"../../../datasets/dados-vazao-imputados/interpolacao-poderada-no-tempo/preenchido bbr esmond data pa-ba 06-10-2023.csv\"\n",
    "bbr_vazao_pr_am_preenchido = \"../../../datasets/dados-vazao-imputados/interpolacao-poderada-no-tempo/preenchido bbr esmond data pr-am 06-10-2023.csv\"\n",
    "cubic_vazao_pa_ba_preenchido = \"../../../datasets/dados-vazao-imputados/interpolacao-poderada-no-tempo/preenchido cubic esmond data pa-ba 06-10-2023.csv\"\n",
    "cubic_vazao_pr_am_preenchido = \"../../../datasets/dados-vazao-imputados/interpolacao-poderada-no-tempo/preenchido cubic esmond data pr-am 06-10-2023.csv\"\n",
    "\n",
    "df = pd.read_csv(cubic_vazao_pr_am)\n",
    "df = preencher_interp_linear(df)\n",
    "\n",
    "df.to_csv(cubic_vazao_pr_am_preenchido)"
   ]
  },
  {
   "cell_type": "code",
   "execution_count": 19,
   "metadata": {},
   "outputs": [
    {
     "data": {
      "text/html": [
       "<div>\n",
       "<style scoped>\n",
       "    .dataframe tbody tr th:only-of-type {\n",
       "        vertical-align: middle;\n",
       "    }\n",
       "\n",
       "    .dataframe tbody tr th {\n",
       "        vertical-align: top;\n",
       "    }\n",
       "\n",
       "    .dataframe thead th {\n",
       "        text-align: right;\n",
       "    }\n",
       "</style>\n",
       "<table border=\"1\" class=\"dataframe\">\n",
       "  <thead>\n",
       "    <tr style=\"text-align: right;\">\n",
       "      <th></th>\n",
       "      <th>Data</th>\n",
       "      <th>Intervalo</th>\n",
       "      <th>Vazao</th>\n",
       "    </tr>\n",
       "  </thead>\n",
       "  <tbody>\n",
       "    <tr>\n",
       "      <th>0</th>\n",
       "      <td>2022-12-12</td>\n",
       "      <td>00:00:00 a 06:00:00</td>\n",
       "      <td>-1.0</td>\n",
       "    </tr>\n",
       "    <tr>\n",
       "      <th>1</th>\n",
       "      <td>2022-12-12</td>\n",
       "      <td>06:00:00 a 12:00:00</td>\n",
       "      <td>-1.0</td>\n",
       "    </tr>\n",
       "    <tr>\n",
       "      <th>2</th>\n",
       "      <td>2022-12-12</td>\n",
       "      <td>12:00:00 a 18:00:00</td>\n",
       "      <td>-1.0</td>\n",
       "    </tr>\n",
       "    <tr>\n",
       "      <th>3</th>\n",
       "      <td>2022-12-12</td>\n",
       "      <td>18:00:00 a 23:59:59</td>\n",
       "      <td>928568937.0</td>\n",
       "    </tr>\n",
       "    <tr>\n",
       "      <th>4</th>\n",
       "      <td>2022-12-13</td>\n",
       "      <td>00:00:00 a 06:00:00</td>\n",
       "      <td>862089089.0</td>\n",
       "    </tr>\n",
       "    <tr>\n",
       "      <th>...</th>\n",
       "      <td>...</td>\n",
       "      <td>...</td>\n",
       "      <td>...</td>\n",
       "    </tr>\n",
       "    <tr>\n",
       "      <th>703</th>\n",
       "      <td>2023-06-09</td>\n",
       "      <td>18:00:00 a 23:59:59</td>\n",
       "      <td>892211527.0</td>\n",
       "    </tr>\n",
       "    <tr>\n",
       "      <th>704</th>\n",
       "      <td>2023-06-10</td>\n",
       "      <td>00:00:00 a 06:00:00</td>\n",
       "      <td>-1.0</td>\n",
       "    </tr>\n",
       "    <tr>\n",
       "      <th>705</th>\n",
       "      <td>2023-06-10</td>\n",
       "      <td>06:00:00 a 12:00:00</td>\n",
       "      <td>902694338.0</td>\n",
       "    </tr>\n",
       "    <tr>\n",
       "      <th>706</th>\n",
       "      <td>2023-06-10</td>\n",
       "      <td>12:00:00 a 18:00:00</td>\n",
       "      <td>-1.0</td>\n",
       "    </tr>\n",
       "    <tr>\n",
       "      <th>707</th>\n",
       "      <td>2023-06-10</td>\n",
       "      <td>18:00:00 a 23:59:59</td>\n",
       "      <td>-1.0</td>\n",
       "    </tr>\n",
       "  </tbody>\n",
       "</table>\n",
       "<p>708 rows × 3 columns</p>\n",
       "</div>"
      ],
      "text/plain": [
       "          Data            Intervalo        Vazao\n",
       "0   2022-12-12  00:00:00 a 06:00:00         -1.0\n",
       "1   2022-12-12  06:00:00 a 12:00:00         -1.0\n",
       "2   2022-12-12  12:00:00 a 18:00:00         -1.0\n",
       "3   2022-12-12  18:00:00 a 23:59:59  928568937.0\n",
       "4   2022-12-13  00:00:00 a 06:00:00  862089089.0\n",
       "..         ...                  ...          ...\n",
       "703 2023-06-09  18:00:00 a 23:59:59  892211527.0\n",
       "704 2023-06-10  00:00:00 a 06:00:00         -1.0\n",
       "705 2023-06-10  06:00:00 a 12:00:00  902694338.0\n",
       "706 2023-06-10  12:00:00 a 18:00:00         -1.0\n",
       "707 2023-06-10  18:00:00 a 23:59:59         -1.0\n",
       "\n",
       "[708 rows x 3 columns]"
      ]
     },
     "execution_count": 19,
     "metadata": {},
     "output_type": "execute_result"
    }
   ],
   "source": []
  },
  {
   "cell_type": "markdown",
   "metadata": {},
   "source": [
    "### Gerando datasets com dados preenchidos"
   ]
  },
  {
   "cell_type": "code",
   "execution_count": 3,
   "metadata": {},
   "outputs": [],
   "source": [
    "def gerar_dataset_preenchido(df, caminho):\n",
    "    df_preenchido = preencher_interp_linear(df)\n",
    "    df_preenchido.to_csv(caminho, index=False)\n",
    "\n",
    "    print(\"Dataset preenchido salvo com sucesso em: \", caminho)"
   ]
  },
  {
   "cell_type": "markdown",
   "metadata": {},
   "source": [
    "### PLot gráfico simples"
   ]
  },
  {
   "cell_type": "code",
   "execution_count": 4,
   "metadata": {},
   "outputs": [],
   "source": [
    "def plot_vazao(df):\n",
    "    valid_vazao = df[df['Vazao'] != -1]['Vazao']\n",
    "    plt.scatter(valid_vazao.index, valid_vazao, color='blue', label='Vazao')\n",
    "\n",
    "def plot_vazao_sintetica(df):\n",
    "    df['Vazao_Sintetica'] = np.where(df['Sintético'] == '1', df['Vazao'], np.nan)\n",
    "    valid_vazao_sintetica = df[df['Vazao_Sintetica'].notnull()]['Vazao_Sintetica']\n",
    "    plt.scatter(valid_vazao_sintetica.index, valid_vazao_sintetica, color='magenta', label='Vazao_Sintetica')\n",
    "\n",
    "def plot_grafico(df):\n",
    "    plt.figure(figsize=(22, 9))\n",
    "    plot_vazao(df)\n",
    "    plot_vazao_sintetica(df)\n",
    "    plt.xlabel('Data')\n",
    "    plt.ylabel('Vazão')\n",
    "    plt.title('Gráfico de Pontos: Vazão vs. Tempo')\n",
    "    plt.legend()\n",
    "    plt.show()"
   ]
  },
  {
   "cell_type": "markdown",
   "metadata": {},
   "source": [
    "### Recebendo e copiando os datasets"
   ]
  },
  {
   "cell_type": "code",
   "execution_count": 5,
   "metadata": {},
   "outputs": [],
   "source": [
    "vazao_pa_ba = pd.read_csv('../../../datasets/vazao/10-06-2023/tratado/bbr/tratado bbr esmond data pa-ba 06-10-2023.csv')\n",
    "vazao_pr_am = pd.read_csv('../../../datasets/vazao/10-06-2023/tratado/bbr/tratado bbr esmond data pr-am 06-10-2023.csv')\n",
    "\n",
    "cubic_vazao_pa_ba = pd.read_csv('../../../datasets/vazao/10-06-2023/tratado/cubic/tratado cubic esmond data pa-ba 06-10-2023.csv')\n",
    "cubic_vazao_pr_am = pd.read_csv('../../../datasets/vazao/10-06-2023/tratado/cubic/tratado cubic esmond data pr-am 06-10-2023.csv')\n",
    "#vazao_pa_ba.to_csv(\"../../../datasets/vazao/10-06-2023/preenchido/bbr/interpolacao/linear/preenchido bbr esmond data pa-ba 06-10-2023.csv\", index=False)\n",
    "#vazao_pr_am.to_csv(\"../../../datasets/vazao/10-06-2023/preenchido/bbr/interpolacao/linear/preenchido bbr esmond data pr-am 06-10-2023.csv\", index=False)"
   ]
  },
  {
   "cell_type": "markdown",
   "metadata": {},
   "source": [
    "### Testando o preenchimento"
   ]
  },
  {
   "cell_type": "code",
   "execution_count": 6,
   "metadata": {},
   "outputs": [
    {
     "name": "stdout",
     "output_type": "stream",
     "text": [
      "Dataset preenchido salvo com sucesso em:  ../../../datasets/vazao/10-06-2023/preenchido/bbr/interpolacao/ponderada-no-tempo/preenchido bbr esmond data pa-ba 06-10-2023.csv\n",
      "Dataset preenchido salvo com sucesso em:  ../../../datasets/vazao/10-06-2023/preenchido/bbr/interpolacao/ponderada-no-tempo/preenchido bbr esmond data pr-am 06-10-2023.csv\n",
      "Dataset preenchido salvo com sucesso em:  ../../../datasets/vazao/10-06-2023/preenchido/cubic/interpolacao/ponderada-no-tempo/preenchido cubic esmond data pa-ba 06-10-2023.csv\n",
      "Dataset preenchido salvo com sucesso em:  ../../../datasets/vazao/10-06-2023/preenchido/cubic/interpolacao/ponderada-no-tempo/preenchido cubic esmond data pr-am 06-10-2023.csv\n"
     ]
    }
   ],
   "source": [
    "vazao_pa_ba_preenchida = preencher_interp_linear(vazao_pa_ba)\n",
    "#plot_scatter_vazao_tempo(vazao_pa_ba_preenchida, 'Vazao Pa-Ba Preenchida')\n",
    "#plot_grafico(vazao_pa_ba_preenchida)\n",
    "\n",
    "gerar_dataset_preenchido(vazao_pa_ba, \"../../../datasets/vazao/10-06-2023/preenchido/bbr/interpolacao/ponderada-no-tempo/preenchido bbr esmond data pa-ba 06-10-2023.csv\")\n",
    "gerar_dataset_preenchido(vazao_pr_am, \"../../../datasets/vazao/10-06-2023/preenchido/bbr/interpolacao/ponderada-no-tempo/preenchido bbr esmond data pr-am 06-10-2023.csv\")\n",
    "\n",
    "gerar_dataset_preenchido(cubic_vazao_pa_ba, \"../../../datasets/vazao/10-06-2023/preenchido/cubic/interpolacao/ponderada-no-tempo/preenchido cubic esmond data pa-ba 06-10-2023.csv\")\n",
    "gerar_dataset_preenchido(cubic_vazao_pr_am, \"../../../datasets/vazao/10-06-2023/preenchido/cubic/interpolacao/ponderada-no-tempo/preenchido cubic esmond data pr-am 06-10-2023.csv\")"
   ]
  }
 ],
 "metadata": {
  "kernelspec": {
   "display_name": "Python 3",
   "language": "python",
   "name": "python3"
  },
  "language_info": {
   "codemirror_mode": {
    "name": "ipython",
    "version": 3
   },
   "file_extension": ".py",
   "mimetype": "text/x-python",
   "name": "python",
   "nbconvert_exporter": "python",
   "pygments_lexer": "ipython3",
   "version": "3.10.12"
  },
  "orig_nbformat": 4
 },
 "nbformat": 4,
 "nbformat_minor": 2
}
