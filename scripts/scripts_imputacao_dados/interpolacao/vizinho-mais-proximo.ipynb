{
 "cells": [
  {
   "cell_type": "markdown",
   "metadata": {},
   "source": [
    "## Preenchendo Dados com o Método de Interpolação Linear (Linear Interpolation)\n",
    "Os datasets utilizados foram os de vazão da data 10/06/2023 da rotas pa-ba e pr-am. "
   ]
  },
  {
   "cell_type": "code",
   "execution_count": 13,
   "metadata": {},
   "outputs": [],
   "source": [
    "import pandas as pd\n",
    "import numpy as np\n",
    "import matplotlib.pyplot as plt"
   ]
  },
  {
   "cell_type": "markdown",
   "metadata": {},
   "source": [
    "### Preenchendo os dados faltantes"
   ]
  },
  {
   "cell_type": "code",
   "execution_count": 14,
   "metadata": {},
   "outputs": [],
   "source": [
    "def preencher_interp(df):\n",
    "    #Evitando alterações no database original\n",
    "    df_copy = df.copy()\n",
    "\n",
    "    # Conversão de datas para usar o método de interpolação\n",
    "    df_copy['Data'] = pd.to_datetime(df_copy['Data'], dayfirst=True)\n",
    "\n",
    "    df_copy.set_index('Data', inplace=True)\n",
    "\n",
    "    # Criar uma coluna 'Sintético' preenchido com 1 para quando for sintético e 0 pra quuando não for\n",
    "    #df['Sintético'] = np.where(df['Vazao'] == -1, '1', '0')\n",
    "    \n",
    "    df_copy['Vazao'] = df_copy['Vazao'].replace(-1, np.nan).interpolate(method=\"nearest\", limit_direction='backward', order=1, replace=True)\n",
    "\n",
    "    \n",
    "    return df_copy"
   ]
  },
  {
   "cell_type": "markdown",
   "metadata": {},
   "source": [
    "### Gerando datasets com dados preenchidos"
   ]
  },
  {
   "cell_type": "code",
   "execution_count": 15,
   "metadata": {},
   "outputs": [],
   "source": [
    "def gerar_dataset_preenchido(df, caminho):\n",
    "    df_preenchido = preencher_interp(df)\n",
    "    df_preenchido.to_csv(caminho, index=False)\n",
    "\n",
    "    print(\"Dataset preenchido salvo com sucesso em: \", caminho)"
   ]
  },
  {
   "cell_type": "markdown",
   "metadata": {},
   "source": [
    "### PLot gráfico simples"
   ]
  },
  {
   "cell_type": "code",
   "execution_count": 16,
   "metadata": {},
   "outputs": [],
   "source": [
    "def plot_vazao(df):\n",
    "    valid_vazao = df[df['Vazao'] != -1]['Vazao']\n",
    "    plt.scatter(valid_vazao.index, valid_vazao, color='blue', label='Vazao')\n",
    "\n",
    "def plot_vazao_sintetica(df):\n",
    "    df['Vazao_Sintetica'] = np.where(df['Sintético'] == '1', df['Vazao'], np.nan)\n",
    "    valid_vazao_sintetica = df[df['Vazao_Sintetica'].notnull()]['Vazao_Sintetica']\n",
    "    plt.scatter(valid_vazao_sintetica.index, valid_vazao_sintetica, color='magenta', label='Vazao_Sintetica')\n",
    "\n",
    "def plot_grafico(df):\n",
    "    plt.figure(figsize=(22, 9))\n",
    "    plot_vazao(df)\n",
    "    plot_vazao_sintetica(df)\n",
    "    plt.xlabel('Data')\n",
    "    plt.ylabel('Vazão')\n",
    "    plt.title('Gráfico de Pontos: Vazão vs. Tempo')\n",
    "    plt.legend()\n",
    "    plt.show()"
   ]
  },
  {
   "cell_type": "markdown",
   "metadata": {},
   "source": [
    "### Recebendo e copiando os datasets"
   ]
  },
  {
   "cell_type": "code",
   "execution_count": 17,
   "metadata": {},
   "outputs": [],
   "source": [
    "vazao_pa_ba = pd.read_csv('../../../datasets/vazao/10-06-2023/tratado/bbr/tratado bbr esmond data pa-ba 06-10-2023.csv')\n",
    "vazao_pr_am = pd.read_csv('../../../datasets/vazao/10-06-2023/tratado/bbr/tratado bbr esmond data pr-am 06-10-2023.csv')\n",
    "\n",
    "cubic_vazao_pa_ba = pd.read_csv('../../../datasets/vazao/10-06-2023/tratado/cubic/tratado cubic esmond data pa-ba 06-10-2023.csv')\n",
    "cubic_vazao_pr_am = pd.read_csv('../../../datasets/vazao/10-06-2023/tratado/cubic/tratado cubic esmond data pr-am 06-10-2023.csv')\n",
    "#vazao_pa_ba.to_csv(\"../../../datasets/vazao/10-06-2023/preenchido/bbr/interpolacao/linear/preenchido bbr esmond data pa-ba 06-10-2023.csv\", index=False)\n",
    "#vazao_pr_am.to_csv(\"../../../datasets/vazao/10-06-2023/preenchido/bbr/interpolacao/linear/preenchido bbr esmond data pr-am 06-10-2023.csv\", index=False)"
   ]
  },
  {
   "cell_type": "markdown",
   "metadata": {},
   "source": [
    "### Testando o preenchimento"
   ]
  },
  {
   "cell_type": "code",
   "execution_count": 18,
   "metadata": {},
   "outputs": [
    {
     "data": {
      "text/html": [
       "<div>\n",
       "<style scoped>\n",
       "    .dataframe tbody tr th:only-of-type {\n",
       "        vertical-align: middle;\n",
       "    }\n",
       "\n",
       "    .dataframe tbody tr th {\n",
       "        vertical-align: top;\n",
       "    }\n",
       "\n",
       "    .dataframe thead th {\n",
       "        text-align: right;\n",
       "    }\n",
       "</style>\n",
       "<table border=\"1\" class=\"dataframe\">\n",
       "  <thead>\n",
       "    <tr style=\"text-align: right;\">\n",
       "      <th></th>\n",
       "      <th>Intervalo</th>\n",
       "      <th>Vazao</th>\n",
       "    </tr>\n",
       "    <tr>\n",
       "      <th>Data</th>\n",
       "      <th></th>\n",
       "      <th></th>\n",
       "    </tr>\n",
       "  </thead>\n",
       "  <tbody>\n",
       "    <tr>\n",
       "      <th>2022-12-12</th>\n",
       "      <td>00:00:00 a 06:00:00</td>\n",
       "      <td>928568937.0</td>\n",
       "    </tr>\n",
       "    <tr>\n",
       "      <th>2022-12-12</th>\n",
       "      <td>06:00:00 a 12:00:00</td>\n",
       "      <td>928568937.0</td>\n",
       "    </tr>\n",
       "    <tr>\n",
       "      <th>2022-12-12</th>\n",
       "      <td>12:00:00 a 18:00:00</td>\n",
       "      <td>928568937.0</td>\n",
       "    </tr>\n",
       "    <tr>\n",
       "      <th>2022-12-12</th>\n",
       "      <td>18:00:00 a 23:59:59</td>\n",
       "      <td>928568937.0</td>\n",
       "    </tr>\n",
       "    <tr>\n",
       "      <th>2022-12-13</th>\n",
       "      <td>00:00:00 a 06:00:00</td>\n",
       "      <td>862089089.0</td>\n",
       "    </tr>\n",
       "    <tr>\n",
       "      <th>...</th>\n",
       "      <td>...</td>\n",
       "      <td>...</td>\n",
       "    </tr>\n",
       "    <tr>\n",
       "      <th>2023-06-09</th>\n",
       "      <td>18:00:00 a 23:59:59</td>\n",
       "      <td>892211527.0</td>\n",
       "    </tr>\n",
       "    <tr>\n",
       "      <th>2023-06-10</th>\n",
       "      <td>00:00:00 a 06:00:00</td>\n",
       "      <td>902694338.0</td>\n",
       "    </tr>\n",
       "    <tr>\n",
       "      <th>2023-06-10</th>\n",
       "      <td>06:00:00 a 12:00:00</td>\n",
       "      <td>902694338.0</td>\n",
       "    </tr>\n",
       "    <tr>\n",
       "      <th>2023-06-10</th>\n",
       "      <td>12:00:00 a 18:00:00</td>\n",
       "      <td>NaN</td>\n",
       "    </tr>\n",
       "    <tr>\n",
       "      <th>2023-06-10</th>\n",
       "      <td>18:00:00 a 23:59:59</td>\n",
       "      <td>NaN</td>\n",
       "    </tr>\n",
       "  </tbody>\n",
       "</table>\n",
       "<p>708 rows × 2 columns</p>\n",
       "</div>"
      ],
      "text/plain": [
       "                      Intervalo        Vazao\n",
       "Data                                        \n",
       "2022-12-12  00:00:00 a 06:00:00  928568937.0\n",
       "2022-12-12  06:00:00 a 12:00:00  928568937.0\n",
       "2022-12-12  12:00:00 a 18:00:00  928568937.0\n",
       "2022-12-12  18:00:00 a 23:59:59  928568937.0\n",
       "2022-12-13  00:00:00 a 06:00:00  862089089.0\n",
       "...                         ...          ...\n",
       "2023-06-09  18:00:00 a 23:59:59  892211527.0\n",
       "2023-06-10  00:00:00 a 06:00:00  902694338.0\n",
       "2023-06-10  06:00:00 a 12:00:00  902694338.0\n",
       "2023-06-10  12:00:00 a 18:00:00          NaN\n",
       "2023-06-10  18:00:00 a 23:59:59          NaN\n",
       "\n",
       "[708 rows x 2 columns]"
      ]
     },
     "execution_count": 18,
     "metadata": {},
     "output_type": "execute_result"
    }
   ],
   "source": [
    "# vazao_pa_ba_preenchida = preencher_interp_linear(vazao_pa_ba)\n",
    "#plot_scatter_vazao_tempo(vazao_pa_ba_preenchida, 'Vazao Pa-Ba Preenchida')\n",
    "#plot_grafico(vazao_pa_ba_preenchida)\n",
    "\n",
    "# gerar_dataset_preenchido(vazao_pa_ba, \"../../../datasets/vazao/10-06-2023/preenchido/bbr/interpolacao/vizinho-mais-proximo/preenchido bbr esmond data pa-ba 06-10-2023.csv\")\n",
    "# gerar_dataset_preenchido(vazao_pr_am, \"../../../datasets/vazao/10-06-2023/preenchido/bbr/interpolacao/vizinho-mais-proximo/preenchido bbr esmond data pr-am 06-10-2023.csv\")\n",
    "\n",
    "# gerar_dataset_preenchido(cubic_vazao_pa_ba, \"../../../datasets/vazao/10-06-2023/preenchido/cubic/interpolacao/vizinho-mais-proximo/preenchido cubic esmond data pa-ba 06-10-2023.csv\")\n",
    "#gerar_dataset_preenchido(cubic_vazao_pr_am, \"../../../datasets/vazao/10-06-2023/preenchido/cubic/interpolacao/vizinho-mais-proximo/preenchido cubic esmond data pr-am 06-10-2023.csv\")\n",
    "\n",
    "preencher_interp(vazao_pa_ba)"
   ]
  }
 ],
 "metadata": {
  "kernelspec": {
   "display_name": "Python 3",
   "language": "python",
   "name": "python3"
  },
  "language_info": {
   "codemirror_mode": {
    "name": "ipython",
    "version": 3
   },
   "file_extension": ".py",
   "mimetype": "text/x-python",
   "name": "python",
   "nbconvert_exporter": "python",
   "pygments_lexer": "ipython3",
   "version": "3.10.12"
  },
  "orig_nbformat": 4
 },
 "nbformat": 4,
 "nbformat_minor": 2
}
