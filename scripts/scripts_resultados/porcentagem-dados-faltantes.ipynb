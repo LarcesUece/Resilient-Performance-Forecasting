{
 "cells": [
  {
   "cell_type": "code",
   "execution_count": 11,
   "metadata": {},
   "outputs": [],
   "source": [
    "import pandas as pd\n",
    "import numpy as np\n",
    "import os\n",
    "import matplotlib.pyplot as plt"
   ]
  },
  {
   "cell_type": "code",
   "execution_count": 12,
   "metadata": {},
   "outputs": [],
   "source": [
    "def calcular_porcentagem (df):\n",
    "    cont = (df['Vazao'] == -1).sum()\n",
    "    porcentagem = 100 - (((len(df) - cont) * 100) / len(df))\n",
    "    return porcentagem\n",
    "\n",
    "def verificar_porcentagem_arquivo(caminho_arquivo):\n",
    "    if caminho_arquivo.endswith('.csv'):\n",
    "        df = pd.read_csv(caminho_arquivo)   \n",
    "        porcentagem = calcular_porcentagem(df)\n",
    "        return porcentagem"
   ]
  },
  {
   "cell_type": "code",
   "execution_count": 13,
   "metadata": {},
   "outputs": [
    {
     "data": {
      "text/plain": [
       "{'tratado bbr esmond data mg-rs 06-10-2023.csv': 19.378698224852073,\n",
       " 'tratado bbr esmond data pa-ba 06-10-2023.csv': 29.09604519774011,\n",
       " 'tratado bbr esmond data df-rj 06-10-2023.csv': 38.1578947368421,\n",
       " 'tratado bbr esmond data ce-sp 06-10-2023.csv': 24.162011173184354,\n",
       " 'tratado bbr esmond data pr-am 06-10-2023.csv': 39.43452380952381}"
      ]
     },
     "execution_count": 13,
     "metadata": {},
     "output_type": "execute_result"
    }
   ],
   "source": [
    "caminho_bbr = \"../../datasets/vazao/10-06-2023/tratado/bbr\"\n",
    "porcentagem_bbr = {}\n",
    "for arquivo in os.listdir(caminho_bbr):\n",
    "    caminho_arquivo = os.path.join(caminho_bbr, arquivo)\n",
    "    if arquivo.startswith('tratado bbr esmond'):\n",
    "        porcentagem_bbr[arquivo] = verificar_porcentagem_arquivo(caminho_arquivo)\n",
    "\n",
    "porcentagem_bbr"
   ]
  },
  {
   "cell_type": "code",
   "execution_count": 14,
   "metadata": {},
   "outputs": [
    {
     "data": {
      "text/plain": [
       "{'tratado cubic esmond data mg-rs 06-10-2023.csv': 20.26627218934911,\n",
       " 'tratado cubic esmond data ce-sp 06-10-2023.csv': 24.157303370786522,\n",
       " 'tratado cubic esmond data pr-am 06-10-2023.csv': 39.37125748502994,\n",
       " 'tratado cubic esmond data pa-ba 06-10-2023.csv': 28.85714285714286,\n",
       " 'tratado cubic esmond data df-rj 06-10-2023.csv': 17.10526315789474}"
      ]
     },
     "execution_count": 14,
     "metadata": {},
     "output_type": "execute_result"
    }
   ],
   "source": [
    "caminho_cubic = \"../../datasets/vazao/10-06-2023/tratado/cubic\"\n",
    "porcentagem_cubic = {}\n",
    "for arquivo in os.listdir(caminho_cubic):\n",
    "    caminho_arquivo = os.path.join(caminho_cubic, arquivo)\n",
    "    if arquivo.startswith('tratado cubic esmond') and caminho_arquivo.endswith('.csv'):\n",
    "        porcentagem_cubic[arquivo] = verificar_porcentagem_arquivo(caminho_arquivo)\n",
    "\n",
    "porcentagem_cubic\n"
   ]
  },
  {
   "cell_type": "code",
   "execution_count": null,
   "metadata": {},
   "outputs": [],
   "source": []
  }
 ],
 "metadata": {
  "kernelspec": {
   "display_name": ".env",
   "language": "python",
   "name": "python3"
  },
  "language_info": {
   "codemirror_mode": {
    "name": "ipython",
    "version": 3
   },
   "file_extension": ".py",
   "mimetype": "text/x-python",
   "name": "python",
   "nbconvert_exporter": "python",
   "pygments_lexer": "ipython3",
   "version": "3.10.12"
  }
 },
 "nbformat": 4,
 "nbformat_minor": 2
}
