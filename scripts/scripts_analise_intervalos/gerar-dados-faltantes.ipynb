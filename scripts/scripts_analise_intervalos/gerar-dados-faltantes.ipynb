{
 "cells": [
  {
   "cell_type": "code",
   "execution_count": 1,
   "metadata": {},
   "outputs": [],
   "source": [
    "import pandas as pd\n",
    "import random\n",
    "import os"
   ]
  },
  {
   "cell_type": "markdown",
   "metadata": {},
   "source": [
    "#### Função `gerar_dados_faltantes`\n",
    "\n",
    "Inserir porcentagem específica de \"-1\" de forma aleatória em apenas um arquivo\n",
    "\n",
    "- `caminho`: Caminho relativo do *ARQUIVO* do dataset. \n",
    "- `porcentagem`: Porcentagem da quantidade de dados faltantes que esse dataset deve ter. \n",
    "\n",
    "Ela retorna:\n",
    "\n",
    "- Um dataframe (pandas) com o dataset com a porcentagem especificade de \"-1\" inseridos \n"
   ]
  },
  {
   "cell_type": "code",
   "execution_count": 2,
   "metadata": {},
   "outputs": [],
   "source": [
    "def gerar_dados_faltantes(caminho, porcentagem):\n",
    "    df = pd.read_csv(caminho)\n",
    "    quantidade = (porcentagem * len(df) / 100)\n",
    "    indices_substituir = random.sample(df.index.tolist(), round(quantidade))\n",
    "    df.loc[indices_substituir, 'Vazao'] = -1\n",
    "    return df\n"
   ]
  },
  {
   "cell_type": "markdown",
   "metadata": {},
   "source": [
    "#### Função `gerar_dados_faltantes_pasta`\n",
    "\n",
    "Inserir porcentagem específica de \"-1\" de forma aleatória em apenas um arquivo\n",
    "\n",
    "- `caminho`: Caminho relativo da *PASTA* dos datasets (em um formato específico para identificar se é cubic ou bbr) \n",
    "- `porcentagem`: Porcentagem da quantidade de dados faltantes que esse dataset deve ter. \n",
    "\n",
    "Ela salva todos os dataset daquela pasta com a porcentagem especificade de \"-1\" inseridos salvos em um arquivo csv no caminho \"datasets/intervalos-completos/vazao/dados-faltantes-gerados/\"\n"
   ]
  },
  {
   "cell_type": "code",
   "execution_count": 3,
   "metadata": {},
   "outputs": [],
   "source": [
    "def gerar_dados_faltantes_pasta(caminho, bbr_porcentagem):\n",
    "    if \"bbr\" in caminho: tipo = \"bbr\"\n",
    "    elif \"cubic\" in caminho: tipo = \"cubic\"\n",
    "    for i, arquivo in enumerate(os.listdir(caminho)):\n",
    "        if arquivo.endswith('.csv') and arquivo.startswith(\"tratado \" + tipo + \" esmond\"):\n",
    "            caminho_arquivo = os.path.join(caminho, arquivo)\n",
    "            gerar_dados_faltantes(caminho_arquivo, bbr_porcentagem[i]).to_csv(\"../../datasets/intervalos-completos/vazao/dados-faltantes-gerados/\" + tipo + \" 06-10-2023/\" + arquivo)\n"
   ]
  },
  {
   "cell_type": "markdown",
   "metadata": {},
   "source": [
    "#### Teste"
   ]
  },
  {
   "cell_type": "code",
   "execution_count": 4,
   "metadata": {},
   "outputs": [],
   "source": [
    "# bbr_porcentagem = [24.162011173184354, 38.1578947368421, 19.378698224852073, 29.09604519774011, 39.43452380952381]\n",
    "# cubic_porcentagem = [24.157303370786522, 17.10526315789474, 20.26627218934911, 28.85714285714286, 39.37125748502994]\n",
    "# cubic = \"../../datasets/intervalos-completos/vazao/cubic 06-10-2023\"\n",
    "# bbr = \"../../datasets/intervalos-completos/vazao/bbr 06-10-2023\"\n",
    "# gerar_dados_faltantes_pasta(cubic, cubic_porcentagem)"
   ]
  }
 ],
 "metadata": {
  "kernelspec": {
   "display_name": "Python 3 (ipykernel)",
   "language": "python",
   "name": "python3"
  },
  "language_info": {
   "codemirror_mode": {
    "name": "ipython",
    "version": 3
   },
   "file_extension": ".py",
   "mimetype": "text/x-python",
   "name": "python",
   "nbconvert_exporter": "python",
   "pygments_lexer": "ipython3",
   "version": "3.10.12"
  }
 },
 "nbformat": 4,
 "nbformat_minor": 2
}
