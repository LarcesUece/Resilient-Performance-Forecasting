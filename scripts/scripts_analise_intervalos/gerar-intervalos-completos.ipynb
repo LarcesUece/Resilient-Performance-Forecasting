{
 "cells": [
  {
   "cell_type": "code",
   "execution_count": 1,
   "metadata": {},
   "outputs": [
    {
     "ename": "ModuleNotFoundError",
     "evalue": "No module named 'pandas'",
     "output_type": "error",
     "traceback": [
      "\u001b[1;31m---------------------------------------------------------------------------\u001b[0m",
      "\u001b[1;31mModuleNotFoundError\u001b[0m                       Traceback (most recent call last)",
      "Cell \u001b[1;32mIn[1], line 2\u001b[0m\n\u001b[0;32m      1\u001b[0m \u001b[38;5;28;01mimport\u001b[39;00m \u001b[38;5;21;01mos\u001b[39;00m\n\u001b[1;32m----> 2\u001b[0m \u001b[38;5;28;01mimport\u001b[39;00m \u001b[38;5;21;01mpandas\u001b[39;00m \u001b[38;5;28;01mas\u001b[39;00m \u001b[38;5;21;01mpd\u001b[39;00m\n\u001b[0;32m      4\u001b[0m \u001b[38;5;66;03m# Diretório onde estão os arquivos CSV\u001b[39;00m\n\u001b[0;32m      5\u001b[0m diretorio \u001b[38;5;241m=\u001b[39m \u001b[38;5;124m'\u001b[39m\u001b[38;5;124m../datasets/vazao/10-06-2023/tratado/bbr/\u001b[39m\u001b[38;5;124m'\u001b[39m\n",
      "\u001b[1;31mModuleNotFoundError\u001b[0m: No module named 'pandas'"
     ]
    }
   ],
   "source": [
    "import os\n",
    "import pandas as pd\n",
    "\n",
    "# Diretório onde estão os arquivos CSV\n",
    "diretorio = '../datasets/vazao/10-06-2023/tratado/bbr/'\n",
    "\n",
    "# Percorra todos os arquivos na pasta\n",
    "for arquivo in os.listdir(diretorio):\n",
    "    if arquivo.endswith('.csv') and arquivo.startswith('tratado bbr esmond'):\n",
    "        caminho_arquivo = os.path.join(diretorio, arquivo)\n",
    "        df = pd.read_csv(caminho_arquivo)\n",
    "\n",
    "        longest_interval = []\n",
    "        current_interval = []\n",
    "        for index, row in df.iterrows():\n",
    "            if row['Vazao'] != -1:\n",
    "                current_interval.append(row)\n",
    "            else:\n",
    "                if len(current_interval) > len(longest_interval):\n",
    "                    longest_interval = current_interval\n",
    "                current_interval = []\n",
    "\n",
    "        # Verifique novamente no final, caso o intervalo mais longo termine no final do arquivo\n",
    "        if len(current_interval) > len(longest_interval):\n",
    "            longest_interval = current_interval\n",
    "\n",
    "        diretorio_salvar = '../datasets/intervalos-completos/vazao/bbr 06-10-2023/'\n",
    "        if len(longest_interval) >= 10:\n",
    "            longest_df = pd.DataFrame(longest_interval)\n",
    "            output_file = os.path.splitext(arquivo)[0] + '_longest_interval.csv'\n",
    "            longest_df.to_csv(os.path.join(diretorio_salvar, output_file), index=False)\n"
   ]
  }
 ],
 "metadata": {
  "kernelspec": {
   "display_name": "Python 3",
   "language": "python",
   "name": "python3"
  },
  "language_info": {
   "codemirror_mode": {
    "name": "ipython",
    "version": 3
   },
   "file_extension": ".py",
   "mimetype": "text/x-python",
   "name": "python",
   "nbconvert_exporter": "python",
   "pygments_lexer": "ipython3",
   "version": "3.10.11"
  }
 },
 "nbformat": 4,
 "nbformat_minor": 2
}
