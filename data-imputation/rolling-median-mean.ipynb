{
 "cells": [
  {
   "cell_type": "code",
   "execution_count": 1,
   "metadata": {},
   "outputs": [],
   "source": [
    "import pandas as pd\n",
    "import numpy as np\n",
    "import matplotlib.pyplot as plt"
   ]
  },
  {
   "cell_type": "markdown",
   "metadata": {},
   "source": [
    "#### Média Móvel "
   ]
  },
  {
   "cell_type": "code",
   "execution_count": 36,
   "metadata": {},
   "outputs": [],
   "source": [
    "def preencher_media_movel(df):\n",
    "    # Evitando alterações no database original\n",
    "    df_original = df\n",
    "    df_copy = df[\"Vazao\"]\n",
    "    \n",
    "    # Conversão de datas para usar o método de interpolação\n",
    "    #df_copy['Data'] = pd.to_datetime(df_copy['Data'], dayfirst=True)\n",
    "    #df_copy.set_index('Data', inplace=True)\n",
    "    \n",
    "    # Preenchendo os valores -1 com NaN e realizando a interpolação linear por tempo\n",
    "    df_copy = df_copy.replace(-1, np.nan).fillna(df_copy.rolling(30,min_periods=2).mean())\n",
    "    df_copy = df_copy.replace(-1, np.nan)\n",
    "    df_original[\"Vazao\"] = df_copy\n",
    "\n",
    "    return df_original\n",
    "\n",
    "df = pd.read_csv(\"../../datasets/intervalos-completos/vazao/dados-faltantes-gerados/bbr 06-10-2023/tratado bbr esmond data mg-rs 06-10-2023_longest_interval.csv\")\n",
    "df = preencher_media_movel(df)\n",
    "df.to_csv(\"../teste media movel window 2\")"
   ]
  },
  {
   "cell_type": "markdown",
   "metadata": {},
   "source": [
    "#### Mediana Móvel"
   ]
  },
  {
   "cell_type": "code",
   "execution_count": 26,
   "metadata": {},
   "outputs": [],
   "source": [
    "def preencher_mediana_movel(df):\n",
    "    df_original = df\n",
    "    df_copy = df[\"Vazao\"]\n",
    "    \n",
    "    # Preenchendo os valores -1 com NaN e realizando \n",
    "    # Realizando o cálculo de rolling mean quantas vezes for necessário para preencher todos os dados   \n",
    "    df_copy = df_copy.replace(-1, np.nan)\n",
    "    df_copy = df_copy.fillna(df_copy.rolling(6,min_periods=1).median())\n",
    "    df_original[\"Vazao\"] = df_copy\n",
    "    return df_original\n"
   ]
  },
  {
   "cell_type": "code",
   "execution_count": 42,
   "metadata": {},
   "outputs": [],
   "source": [
    "import os\n",
    "\n",
    "pasta = \"../../datasets/intervalos-completos/vazao/dados-faltantes-gerados/cubic 06-10-2023\"\n",
    "pasta_final = \"../../datasets/intervalos-completos/vazao\\dados-preenchidos/cubic 06-10-2023/media movel/\"\n",
    "\n",
    "\n",
    "def multiplas_imputacoes(caminho, caminho_final):\n",
    "    if \"bbr\" in caminho: tipo = \"bbr\"\n",
    "    elif \"cubic\" in caminho: tipo = \"cubic\"\n",
    "    for arquivo in os.listdir(caminho):\n",
    "        if arquivo.endswith('.csv') and arquivo.startswith(\"tratado \" + tipo + \" esmond\"):\n",
    "            caminho_arquivo = os.path.join(caminho, arquivo)\n",
    "            df = pd.read_csv(caminho_arquivo)\n",
    "            preencher_media_movel(df).to_csv(caminho_final + tipo + \" 06-10-2023 \" + arquivo, index=False)\n",
    "\n",
    "df = pd.DataFrame\n",
    "df = multiplas_imputacoes(pasta, pasta_final)"
   ]
  }
 ],
 "metadata": {
  "kernelspec": {
   "display_name": "Python 3",
   "language": "python",
   "name": "python3"
  },
  "language_info": {
   "codemirror_mode": {
    "name": "ipython",
    "version": 3
   },
   "file_extension": ".py",
   "mimetype": "text/x-python",
   "name": "python",
   "nbconvert_exporter": "python",
   "pygments_lexer": "ipython3",
   "version": "3.11.6"
  },
  "orig_nbformat": 4
 },
 "nbformat": 4,
 "nbformat_minor": 2
}
